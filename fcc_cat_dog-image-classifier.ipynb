{
  "nbformat": 4,
  "nbformat_minor": 0,
  "metadata": {
    "colab": {
      "name": "fcc_cat_dog.ipynb",
      "provenance": [],
      "collapsed_sections": [],
      "include_colab_link": true
    },
    "kernelspec": {
      "name": "python3",
      "display_name": "Python 3"
    }
  },
  "cells": [
    {
      "cell_type": "markdown",
      "metadata": {
        "id": "view-in-github",
        "colab_type": "text"
      },
      "source": [
        "<a href=\"https://colab.research.google.com/github/ZeynebBechiri/fcc-cat-dog-image-classifier/blob/main/fcc_cat_dog-image-classifier.ipynb\" target=\"_parent\"><img src=\"https://colab.research.google.com/assets/colab-badge.svg\" alt=\"Open In Colab\"/></a>"
      ]
    },
    {
      "cell_type": "markdown",
      "metadata": {
        "id": "XeCllzC77-P5"
      },
      "source": [
        "*Note: You are currently reading this using Google Colaboratory which is a cloud-hosted version of Jupyter Notebook. This is a document containng both text cells for documentation and runnable code cells. If you are unfamiliar with Jupyter Notebook, watch this 3-minute introduction before starting this challenge: https://www.youtube.com/watch?v=inN8seMm7UI*\n",
        "\n",
        "\n",
        "\n",
        "---\n",
        "\n",
        "\n",
        "\n",
        "For this challenge, you will complete the code below to classify images of dogs and cats. You will use Tensorflow 2.0 and Keras to create a convolutional neural network that correctly classifies images of cats and dogs at least 63% of the time. (Extra credit if you get it to 70% accuracy!)\n",
        "\n",
        "Some of the code is given to you but some code you must fill in to complete this challenge. Read the instruction in each text cell so you will know what you have to do in each code cell.\n",
        "\n",
        "The first code cell imports the required libraries. The second code cell downloads the data and sets key variables. The third cell is the first place you will write your own code.\n",
        "\n",
        "The structure of the dataset files that are downloaded looks like this (You will notice that the test directory has no subdirectories and the images are not labeled):\n",
        "```\n",
        "cats_and_dogs\n",
        "|__ train:\n",
        "    |______ cats: [cat.0.jpg, cat.1.jpg ...]\n",
        "    |______ dogs: [dog.0.jpg, dog.1.jpg ...]\n",
        "|__ validation:\n",
        "    |______ cats: [cat.2000.jpg, cat.2001.jpg ...]\n",
        "    |______ dogs: [dog.2000.jpg, dog.2001.jpg ...]\n",
        "|__ test: [1.jpg, 2.jpg ...]\n",
        "```\n",
        "\n",
        "You can tweak epochs and batch size if you like, but it is not required."
      ]
    },
    {
      "cell_type": "code",
      "metadata": {
        "id": "la_Oz6oLlub6"
      },
      "source": [
        "try:\n",
        "  # This command only in Colab.\n",
        "  %tensorflow_version 2.x\n",
        "except Exception:\n",
        "  pass\n",
        "import tensorflow as tf\n",
        "\n",
        "from tensorflow.keras.models import Sequential\n",
        "from tensorflow.keras.layers import Dense, Conv2D, Flatten, Dropout, MaxPooling2D\n",
        "from tensorflow.keras.preprocessing.image import ImageDataGenerator\n",
        "from tensorflow.math import ceil\n",
        "\n",
        "import os\n",
        "import numpy as np\n",
        "import matplotlib.pyplot as plt\n"
      ],
      "execution_count": 1,
      "outputs": []
    },
    {
      "cell_type": "code",
      "metadata": {
        "id": "jaF8r6aOl48C"
      },
      "source": [
        "# Get project files\n",
        "!wget https://cdn.freecodecamp.org/project-data/cats-and-dogs/cats_and_dogs.zip\n",
        "\n",
        "!unzip cats_and_dogs.zip\n",
        "\n",
        "PATH = 'cats_and_dogs'\n",
        "\n",
        "train_dir = os.path.join(PATH, 'train')\n",
        "validation_dir = os.path.join(PATH, 'validation')\n",
        "test_dir = os.path.join(PATH, 'test')\n",
        "\n",
        "# Get number of files in each directory. The train and validation directories\n",
        "# each have the subdirectories \"dogs\" and \"cats\".\n",
        "total_train = sum([len(files) for r, d, files in os.walk(train_dir)])\n",
        "total_val = sum([len(files) for r, d, files in os.walk(validation_dir)])\n",
        "total_test = len(os.listdir(test_dir))\n",
        "\n",
        "# Variables for pre-processing and training.\n",
        "batch_size = 128\n",
        "epochs = 15\n",
        "IMG_HEIGHT = 150\n",
        "IMG_WIDTH = 150"
      ],
      "execution_count": null,
      "outputs": []
    },
    {
      "cell_type": "markdown",
      "metadata": {
        "id": "54bSbGlK9-6T"
      },
      "source": [
        "Now it is your turn! Set each of the variables below correctly. (They should no longer equal `None`.)\n",
        "\n",
        "Create image generators for each of the three image data sets (train, validation, test). Use `ImageDataGenerator` to read / decode the images and convert them into floating point tensors. Use the `rescale` argument (and no other arguments for now) to rescale the tensors from values between 0 and 255 to values between 0 and 1.\n",
        "\n",
        "For the `*_data_gen` variables, use the `flow_from_directory` method. Pass in the batch size, directory, target size (`(IMG_HEIGHT, IMG_WIDTH)`), class mode, and anything else required. `test_data_gen` will be the trickiest one. For `test_data_gen`, make sure to pass in `shuffle=False` to the `flow_from_directory` method. This will make sure the final predictions stay is in the order that our test expects. For `test_data_gen` it will also be helpful to observe the directory structure.\n",
        "\n",
        "\n",
        "After you run the code, the output should look like this:\n",
        "```\n",
        "Found 2000 images belonging to 2 classes.\n",
        "Found 1000 images belonging to 2 classes.\n",
        "Found 50 images belonging to 1 classes.\n",
        "```"
      ]
    },
    {
      "cell_type": "code",
      "metadata": {
        "id": "EOJFeEfumns6"
      },
      "source": [
        "train_image_generator = ImageDataGenerator(rescale = 1.0/255.0)\n",
        "validation_image_generator = ImageDataGenerator(rescale = 1.0/255.0)\n",
        "test_image_generator = ImageDataGenerator(rescale = 1.0/255.0)\n",
        "\n",
        "train_data_gen = train_image_generator.flow_from_directory(\n",
        "    directory = train_dir,\n",
        "    target_size = (IMG_HEIGHT,IMG_WIDTH),\n",
        "    batch_size = batch_size,\n",
        "    class_mode='binary',\n",
        "    shuffle = True\n",
        ")\n",
        "val_data_gen = validation_image_generator.flow_from_directory(\n",
        "    directory = validation_dir,\n",
        "    target_size = (IMG_HEIGHT,IMG_WIDTH),\n",
        "    batch_size = batch_size,\n",
        "    class_mode='binary',\n",
        "    shuffle = True\n",
        ")\n",
        "test_data_gen = test_image_generator.flow_from_directory(\n",
        "    directory = PATH,\n",
        "    classes=['test'],\n",
        "    target_size = (IMG_HEIGHT,IMG_WIDTH),\n",
        "    batch_size = batch_size,\n",
        "    shuffle = False\n",
        ")"
      ],
      "execution_count": null,
      "outputs": []
    },
    {
      "cell_type": "markdown",
      "metadata": {
        "id": "77TvZVETP_b2"
      },
      "source": [
        "The `plotImages` function will be used a few times to plot images. It takes an array of images and a probabilities list, although the probabilities list is optional. This code is given to you. If you created the `train_data_gen` variable correctly, then running the cell below will plot five random training images."
      ]
    },
    {
      "cell_type": "code",
      "metadata": {
        "id": "TP0WA8j1mt7Q"
      },
      "source": [
        "def plotImages(images_arr, probabilities = False):\n",
        "    fig, axes = plt.subplots(len(images_arr), 1, figsize=(5,len(images_arr) * 3))\n",
        "    if probabilities is False:\n",
        "      for img, ax in zip( images_arr, axes):\n",
        "          ax.imshow(img)\n",
        "          ax.axis('off')\n",
        "    else:\n",
        "      for img, probability, ax in zip( images_arr, probabilities, axes):\n",
        "          ax.imshow(img)\n",
        "          ax.axis('off')\n",
        "          if probability > 0.5:\n",
        "              ax.set_title(\"%.2f\" % (probability*100) + \"% dog\")\n",
        "          else:\n",
        "              ax.set_title(\"%.2f\" % ((1-probability)*100) + \"% cat\")\n",
        "    plt.show()\n",
        "\n",
        "sample_training_images, _ = next(train_data_gen)\n",
        "plotImages(sample_training_images[:5])\n"
      ],
      "execution_count": null,
      "outputs": []
    },
    {
      "cell_type": "markdown",
      "metadata": {
        "id": "GlLF4j7hkxEp"
      },
      "source": [
        "Recreate the `train_image_generator` using `ImageDataGenerator`. \n",
        "\n",
        "Since there are a small number of training examples there is a risk of overfitting. One way to fix this problem is by creating more training data from existing training examples by using random transformations.\n",
        "\n",
        "Add 4-6 random transformations as arguments to `ImageDataGenerator`. Make sure to rescale the same as before.\n"
      ]
    },
    {
      "cell_type": "code",
      "metadata": {
        "id": "-32RRLY_3voj"
      },
      "source": [
        "train_image_generator = ImageDataGenerator(\n",
        "    rescale = 1.0/255.0,\n",
        "    rotation_range = 40,\n",
        "    width_shift_range = 0.2,\n",
        "    height_shift_range = 0.2,\n",
        "    shear_range = 0.2,\n",
        "    zoom_range = 0.2,\n",
        "    horizontal_flip = True,\n",
        "    fill_mode = 'nearest'\n",
        "    )\n"
      ],
      "execution_count": 7,
      "outputs": []
    },
    {
      "cell_type": "markdown",
      "metadata": {
        "id": "JLzS54VmqkRg"
      },
      "source": [
        "You don't have to do anything for the next cell. `train_data_gen` is created just like before but with the new `train_image_generator`. Then, a single image is plotted five different times using different variations."
      ]
    },
    {
      "cell_type": "code",
      "metadata": {
        "id": "pkwq2LFvqabS"
      },
      "source": [
        "train_data_gen = train_image_generator.flow_from_directory(batch_size=batch_size,\n",
        "                                                     directory=train_dir,\n",
        "                                                     target_size=(IMG_HEIGHT, IMG_WIDTH),\n",
        "                                                     class_mode='binary',\n",
        "                                                     shuffle = True)\n",
        "\n",
        "augmented_images = [train_data_gen[0][0][0] for i in range(5)]\n",
        "\n",
        "plotImages(augmented_images)"
      ],
      "execution_count": null,
      "outputs": []
    },
    {
      "cell_type": "markdown",
      "metadata": {
        "id": "wUPWeKtESzA9"
      },
      "source": [
        "In the cell below, create a model for the neural network that outputs class probabilities. It should use the Keras Sequential model. It will probably involve a stack of Conv2D and MaxPooling2D layers and then a fully connected layer on top that is activated by a ReLU activation function.\n",
        "\n",
        "Compile the model passing the arguments to set the optimizer and loss. Also pass in `metrics=['accuracy']` to view training and validation accuracy for each training epoch."
      ]
    },
    {
      "cell_type": "code",
      "metadata": {
        "id": "k8aZkwMam4UY",
        "colab": {
          "base_uri": "https://localhost:8080/"
        },
        "outputId": "ae8652c7-403b-4e95-d94d-da07b071d19b"
      },
      "source": [
        "model = Sequential()\n",
        "model.add(tf.keras.layers.Conv2D(32, (3,3), activation = 'relu', input_shape=(IMG_HEIGHT, IMG_WIDTH, 3)))\n",
        "model.add(tf.keras.layers.MaxPooling2D((2,2)))\n",
        "model.add(tf.keras.layers.Conv2D(64, (3,3), activation = 'relu'))\n",
        "model.add(tf.keras.layers.MaxPooling2D((2,2)))\n",
        "model.add(tf.keras.layers.Conv2D(128, (3,3), activation = 'relu'))\n",
        "model.add(tf.keras.layers.MaxPooling2D((2,2)))\n",
        "\n",
        "# Classifier\n",
        "\n",
        "model.add(tf.keras.layers.Flatten())\n",
        "model.add(tf.keras.layers.Dense(64, activation='relu'))\n",
        "model.add(tf.keras.layers.Dense(1, activation='sigmoid'))\n",
        "\n",
        "model.summary()\n",
        "\n",
        "model.compile(optimizer = 'adam',\n",
        "              loss = tf.keras.losses.BinaryCrossentropy(from_logits = False),\n",
        "              metrics = ['accuracy'])"
      ],
      "execution_count": 9,
      "outputs": [
        {
          "output_type": "stream",
          "name": "stdout",
          "text": [
            "Model: \"sequential\"\n",
            "_________________________________________________________________\n",
            " Layer (type)                Output Shape              Param #   \n",
            "=================================================================\n",
            " conv2d (Conv2D)             (None, 148, 148, 32)      896       \n",
            "                                                                 \n",
            " max_pooling2d (MaxPooling2D  (None, 74, 74, 32)       0         \n",
            " )                                                               \n",
            "                                                                 \n",
            " conv2d_1 (Conv2D)           (None, 72, 72, 64)        18496     \n",
            "                                                                 \n",
            " max_pooling2d_1 (MaxPooling  (None, 36, 36, 64)       0         \n",
            " 2D)                                                             \n",
            "                                                                 \n",
            " conv2d_2 (Conv2D)           (None, 34, 34, 128)       73856     \n",
            "                                                                 \n",
            " max_pooling2d_2 (MaxPooling  (None, 17, 17, 128)      0         \n",
            " 2D)                                                             \n",
            "                                                                 \n",
            " flatten (Flatten)           (None, 36992)             0         \n",
            "                                                                 \n",
            " dense (Dense)               (None, 64)                2367552   \n",
            "                                                                 \n",
            " dense_1 (Dense)             (None, 1)                 65        \n",
            "                                                                 \n",
            "=================================================================\n",
            "Total params: 2,460,865\n",
            "Trainable params: 2,460,865\n",
            "Non-trainable params: 0\n",
            "_________________________________________________________________\n"
          ]
        }
      ]
    },
    {
      "cell_type": "markdown",
      "metadata": {
        "id": "-rYmKuT1dRdy"
      },
      "source": [
        "Use the `fit` method on your `model` to train the network. Make sure to pass in arguments for `x`, `steps_per_epoch`, `epochs`, `validation_data`, and `validation_steps`."
      ]
    },
    {
      "cell_type": "code",
      "metadata": {
        "id": "1niQDz5x6K7y",
        "colab": {
          "base_uri": "https://localhost:8080/"
        },
        "outputId": "23a29aa6-8e86-4099-9c96-239395e1953a"
      },
      "source": [
        "train_step_size = train_data_gen.n // train_data_gen.batch_size\n",
        "validation_step_size = val_data_gen.n // val_data_gen.batch_size\n",
        "\n",
        "history = model.fit(x = train_data_gen,\n",
        "                    steps_per_epoch = train_step_size,\n",
        "                    validation_data = val_data_gen,\n",
        "                    validation_steps = validation_step_size,\n",
        "                    epochs=epochs\n",
        ") "
      ],
      "execution_count": 10,
      "outputs": [
        {
          "output_type": "stream",
          "name": "stdout",
          "text": [
            "Epoch 1/15\n",
            "15/15 [==============================] - 92s 6s/step - loss: 0.8275 - accuracy: 0.4875 - val_loss: 0.6926 - val_accuracy: 0.5011\n",
            "Epoch 2/15\n",
            "15/15 [==============================] - 86s 6s/step - loss: 0.6929 - accuracy: 0.4979 - val_loss: 0.6913 - val_accuracy: 0.5089\n",
            "Epoch 3/15\n",
            "15/15 [==============================] - 87s 6s/step - loss: 0.6919 - accuracy: 0.5176 - val_loss: 0.6860 - val_accuracy: 0.5067\n",
            "Epoch 4/15\n",
            "15/15 [==============================] - 86s 6s/step - loss: 0.6894 - accuracy: 0.5337 - val_loss: 0.6815 - val_accuracy: 0.6004\n",
            "Epoch 5/15\n",
            "15/15 [==============================] - 86s 6s/step - loss: 0.6823 - accuracy: 0.5620 - val_loss: 0.6619 - val_accuracy: 0.6138\n",
            "Epoch 6/15\n",
            "15/15 [==============================] - 88s 6s/step - loss: 0.6675 - accuracy: 0.5958 - val_loss: 0.6426 - val_accuracy: 0.6562\n",
            "Epoch 7/15\n",
            "15/15 [==============================] - 87s 6s/step - loss: 0.6449 - accuracy: 0.6410 - val_loss: 0.6112 - val_accuracy: 0.6629\n",
            "Epoch 8/15\n",
            "15/15 [==============================] - 87s 6s/step - loss: 0.6450 - accuracy: 0.6154 - val_loss: 0.6109 - val_accuracy: 0.6473\n",
            "Epoch 9/15\n",
            "15/15 [==============================] - 88s 6s/step - loss: 0.6259 - accuracy: 0.6354 - val_loss: 0.5868 - val_accuracy: 0.6685\n",
            "Epoch 10/15\n",
            "15/15 [==============================] - 87s 6s/step - loss: 0.6166 - accuracy: 0.6528 - val_loss: 0.6016 - val_accuracy: 0.6685\n",
            "Epoch 11/15\n",
            "15/15 [==============================] - 87s 6s/step - loss: 0.6062 - accuracy: 0.6683 - val_loss: 0.5756 - val_accuracy: 0.6931\n",
            "Epoch 12/15\n",
            "15/15 [==============================] - 86s 6s/step - loss: 0.6036 - accuracy: 0.6757 - val_loss: 0.5603 - val_accuracy: 0.6998\n",
            "Epoch 13/15\n",
            "15/15 [==============================] - 87s 6s/step - loss: 0.5800 - accuracy: 0.7003 - val_loss: 0.5479 - val_accuracy: 0.7154\n",
            "Epoch 14/15\n",
            "15/15 [==============================] - 87s 6s/step - loss: 0.5865 - accuracy: 0.6928 - val_loss: 0.5769 - val_accuracy: 0.6908\n",
            "Epoch 15/15\n",
            "15/15 [==============================] - 87s 6s/step - loss: 0.5800 - accuracy: 0.6875 - val_loss: 0.5499 - val_accuracy: 0.7054\n"
          ]
        }
      ]
    },
    {
      "cell_type": "markdown",
      "metadata": {
        "id": "Imux8tZWsWp-"
      },
      "source": [
        "Run the next cell to visualize the accuracy and loss of the model."
      ]
    },
    {
      "cell_type": "code",
      "metadata": {
        "id": "5xS51mB56OAC",
        "colab": {
          "base_uri": "https://localhost:8080/",
          "height": 499
        },
        "outputId": "101c06c9-8279-4d8c-ac33-144978277371"
      },
      "source": [
        "acc = history.history['accuracy']\n",
        "val_acc = history.history['val_accuracy']\n",
        "\n",
        "loss = history.history['loss']\n",
        "val_loss = history.history['val_loss']\n",
        "\n",
        "epochs_range = range(epochs)\n",
        "\n",
        "plt.figure(figsize=(8, 8))\n",
        "plt.subplot(1, 2, 1)\n",
        "plt.plot(epochs_range, acc, label='Training Accuracy')\n",
        "plt.plot(epochs_range, val_acc, label='Validation Accuracy')\n",
        "plt.legend(loc='lower right')\n",
        "plt.title('Training and Validation Accuracy')\n",
        "\n",
        "plt.subplot(1, 2, 2)\n",
        "plt.plot(epochs_range, loss, label='Training Loss')\n",
        "plt.plot(epochs_range, val_loss, label='Validation Loss')\n",
        "plt.legend(loc='upper right')\n",
        "plt.title('Training and Validation Loss')\n",
        "plt.show()"
      ],
      "execution_count": 11,
      "outputs": [
        {
          "output_type": "display_data",
          "data": {
            "text/plain": [
              "<Figure size 576x576 with 2 Axes>"
            ],
            "image/png": "[encoded data removed]"
          },
          "metadata": {
            "needs_background": "light"
          }
        }
      ]
    },
    {
      "cell_type": "markdown",
      "metadata": {
        "id": "2bWrqi-usz3y"
      },
      "source": [
        "Now it is time to use your model to predict whether a brand new image is a cat or a dog.\n",
        "\n",
        "In this final cell, get the probability that each test image (from `test_data_gen`) is a dog or a cat. `probabilities` should be a list of integers. \n",
        "\n",
        "Call the `plotImages` function and pass in the test images and the probabilities corresponding to each test image.\n",
        "\n",
        "After your run the cell, you should see all 50 test images with a label showing the percentage sure that the image is a cat or a dog. The accuracy will correspond to the accuracy shown in the graph above (after running the previous cell). More training images could lead to a higher accuracy."
      ]
    },
    {
      "cell_type": "code",
      "source": [
        "print(test_data_gen[0][0])"
      ],
      "metadata": {
        "id": "NmtwxcDDTEZO"
      },
      "execution_count": null,
      "outputs": []
    },
    {
      "cell_type": "code",
      "metadata": {
        "id": "vYrSifOit2aK"
      },
      "source": [
        "probabilities = model.predict(test_data_gen).flatten()\n",
        "plotImages(test_data_gen[0][0],probabilities)\n"
      ],
      "execution_count": null,
      "outputs": []
    },
    {
      "cell_type": "markdown",
      "metadata": {
        "id": "222ZZUup6SVO"
      },
      "source": [
        "Run this final cell to see if you passed the challenge or if you need to keep trying."
      ]
    },
    {
      "cell_type": "code",
      "metadata": {
        "id": "4IH86Ux_u7TZ",
        "colab": {
          "base_uri": "https://localhost:8080/"
        },
        "outputId": "e0f1725d-9953-49c4-d60d-8873dca449cd"
      },
      "source": [
        "answers =  [1, 0, 0, 1, 0, 0, 0, 0, 1, 1, 0,\n",
        "            1, 0, 1, 0, 1, 1, 0, 1, 1, 0, 0,\n",
        "            1, 1, 1, 1, 1, 0, 0, 0, 0, 0, 1,\n",
        "            1, 0, 1, 1, 1, 1, 0, 1, 0, 1, 1, \n",
        "            0, 0, 0, 0, 0, 0]\n",
        "\n",
        "correct = 0\n",
        "\n",
        "for probability, answer in zip(probabilities, answers):\n",
        "  if round(probability) == answer:\n",
        "    correct +=1\n",
        "\n",
        "percentage_identified = (correct / len(answers))\n",
        "\n",
        "passed_challenge = percentage_identified > 0.63\n",
        "\n",
        "print(f\"Your model correctly identified {round(percentage_identified, 2)}% of the images of cats and dogs.\")\n",
        "\n",
        "if passed_challenge:\n",
        "  print(\"You passed the challenge!\")\n",
        "else:\n",
        "  print(\"You haven't passed yet. Your model should identify at least 63% of the images. Keep trying. You will get it!\")"
      ],
      "execution_count": 20,
      "outputs": [
        {
          "output_type": "stream",
          "name": "stdout",
          "text": [
            "Your model correctly identified 0.72% of the images of cats and dogs.\n",
            "You passed the challenge!\n"
          ]
        }
      ]
    }
  ]
}